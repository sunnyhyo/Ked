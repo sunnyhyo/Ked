{
 "cells": [
  {
   "cell_type": "code",
   "execution_count": 1,
   "metadata": {},
   "outputs": [],
   "source": [
    "import pandas as pd\n",
    "import numpy as np"
   ]
  },
  {
   "cell_type": "code",
   "execution_count": 13,
   "metadata": {},
   "outputs": [],
   "source": [
    "df = pd.read_csv('C:/Users/HS/Desktop/korea/korea2006.csv')\n",
    "year = 2006\n",
    "month = 3\n",
    "df = df[(df['month'] == month)&(df['year'] == year)]\n",
    "df.reset_index(inplace=True)\n",
    "DATE = '{0}.{0}'.format(year,month)\n",
    "\n",
    "item = pd.read_excel('C:/Users/HS/Desktop/korea/df_한국건수1_당월.xlsx')\n",
    "no_item = int(item[(item['year'] == year)&(item['month'] == month)]['tot2'])\n",
    "\n",
    "tmp = list(df['page'])\n",
    "tmp.insert(0, 0)\n",
    "del tmp[-1]\n",
    "df['page1'] = tmp"
   ]
  },
  {
   "cell_type": "code",
   "execution_count": 14,
   "metadata": {},
   "outputs": [
    {
     "data": {
      "text/html": [
       "<div>\n",
       "<style scoped>\n",
       "    .dataframe tbody tr th:only-of-type {\n",
       "        vertical-align: middle;\n",
       "    }\n",
       "\n",
       "    .dataframe tbody tr th {\n",
       "        vertical-align: top;\n",
       "    }\n",
       "\n",
       "    .dataframe thead th {\n",
       "        text-align: right;\n",
       "    }\n",
       "</style>\n",
       "<table border=\"1\" class=\"dataframe\">\n",
       "  <thead>\n",
       "    <tr style=\"text-align: right;\">\n",
       "      <th></th>\n",
       "      <th>index</th>\n",
       "      <th>year</th>\n",
       "      <th>month</th>\n",
       "      <th>country</th>\n",
       "      <th>SC</th>\n",
       "      <th>S_code</th>\n",
       "      <th>export</th>\n",
       "      <th>import</th>\n",
       "      <th>page</th>\n",
       "      <th>page1</th>\n",
       "    </tr>\n",
       "  </thead>\n",
       "  <tbody>\n",
       "  </tbody>\n",
       "</table>\n",
       "</div>"
      ],
      "text/plain": [
       "Empty DataFrame\n",
       "Columns: [index, year, month, country, SC, S_code, export, import, page, page1]\n",
       "Index: []"
      ]
     },
     "execution_count": 14,
     "metadata": {},
     "output_type": "execute_result"
    }
   ],
   "source": [
    "df.loc[df['year'] == 2006]"
   ]
  },
  {
   "cell_type": "code",
   "execution_count": 16,
   "metadata": {},
   "outputs": [
    {
     "ename": "IndexError",
     "evalue": "index -1 is out of bounds for axis 0 with size 0",
     "output_type": "error",
     "traceback": [
      "\u001b[1;31m---------------------------------------------------------------------------\u001b[0m",
      "\u001b[1;31mIndexError\u001b[0m                                Traceback (most recent call last)",
      "\u001b[1;32m<ipython-input-16-ec0dfb8fc4c0>\u001b[0m in \u001b[0;36m<module>\u001b[1;34m()\u001b[0m\n\u001b[0;32m     12\u001b[0m \u001b[0m잘못된거\u001b[0m \u001b[1;33m=\u001b[0m \u001b[0mnp\u001b[0m\u001b[1;33m.\u001b[0m\u001b[0mwhere\u001b[0m\u001b[1;33m(\u001b[0m\u001b[0mtemp\u001b[0m \u001b[1;33m!=\u001b[0m \u001b[1;36m100\u001b[0m\u001b[1;33m)\u001b[0m\u001b[1;33m[\u001b[0m\u001b[1;36m0\u001b[0m\u001b[1;33m]\u001b[0m\u001b[1;33m+\u001b[0m\u001b[1;36m1\u001b[0m\u001b[1;33m\u001b[0m\u001b[0m\n\u001b[0;32m     13\u001b[0m \u001b[1;33m\u001b[0m\u001b[0m\n\u001b[1;32m---> 14\u001b[1;33m \u001b[1;32mif\u001b[0m \u001b[0mno_item\u001b[0m\u001b[1;33m%\u001b[0m\u001b[1;36m100\u001b[0m \u001b[1;33m==\u001b[0m \u001b[0mtemp\u001b[0m\u001b[1;33m[\u001b[0m\u001b[1;33m-\u001b[0m\u001b[1;36m1\u001b[0m\u001b[1;33m]\u001b[0m \u001b[1;33m:\u001b[0m\u001b[1;33m\u001b[0m\u001b[0m\n\u001b[0m\u001b[0;32m     15\u001b[0m     \u001b[0m잘못된거\u001b[0m \u001b[1;33m=\u001b[0m \u001b[1;33m(\u001b[0m\u001b[0mnp\u001b[0m\u001b[1;33m.\u001b[0m\u001b[0mwhere\u001b[0m\u001b[1;33m(\u001b[0m\u001b[0mtemp\u001b[0m \u001b[1;33m!=\u001b[0m \u001b[1;36m100\u001b[0m\u001b[1;33m)\u001b[0m\u001b[1;33m[\u001b[0m\u001b[1;36m0\u001b[0m\u001b[1;33m]\u001b[0m\u001b[1;33m+\u001b[0m\u001b[1;36m1\u001b[0m\u001b[1;33m)\u001b[0m\u001b[1;33m[\u001b[0m\u001b[1;33m:\u001b[0m\u001b[1;33m-\u001b[0m\u001b[1;36m1\u001b[0m\u001b[1;33m]\u001b[0m\u001b[1;33m\u001b[0m\u001b[0m\n\u001b[0;32m     16\u001b[0m \u001b[1;33m\u001b[0m\u001b[0m\n",
      "\u001b[1;31mIndexError\u001b[0m: index -1 is out of bounds for axis 0 with size 0"
     ]
    }
   ],
   "source": [
    "#선 전처리\n",
    "\n",
    "#case 1 n번째가 잘못 뽑힘\n",
    "#마지막을 뺀 나머지는 다 100개여야함.\n",
    "####################################################################################################\n",
    "tmp = np.array(df[df['page'] != df['page1']].index)[:int(no_item/100 +1)]\n",
    "tmp1 = np.array(df[df['page'] != df['page1']].index)[1:int(no_item/100 +1)]\n",
    "tmp1 = np.append(tmp1,df.shape[0])\n",
    "\n",
    "temp = tmp1 - tmp\n",
    "\n",
    "잘못된거 = np.where(temp != 100)[0]+1\n",
    "\n",
    "if no_item%100 == temp[-1] :\n",
    "    잘못된거 = (np.where(temp != 100)[0]+1)[:-1]\n",
    "\n",
    "for i in 잘못된거 :\n",
    "    print('{0} : #case 1 {1} 번째가 잘못 뽑힘'.format(DATE, i))\n",
    "    \n",
    "    if ((temp[i-1] >100) & (i == 잘못된거[-1])) :\n",
    "        print('#끝에 루프가 돈 경우.')\n",
    "    \n",
    "        #loop\n",
    "        if no_item in df[df['page'] != df['page1']].index :\n",
    "            print('#자료가 더 뽑힌경우.')\n",
    "            print('깨끗한 loop')\n",
    "            df = df[0:no_item]\n",
    "            \n",
    "            continue;\n",
    "        \n",
    "    print('{0} 번째 다시 뽑기'.format(i))\n",
    "    ####\n",
    "    #i번째만 다시 뽑기 DEF 필요\n",
    "    ####\n",
    "    \n",
    "#case 1.5 자료가 덜 뽑힌 경우.\n",
    "####################################################################################################\n",
    "if no_item > df.shape[0]:\n",
    "    print('#자료가 덜 뽑힌경우.')\n",
    "    \n",
    "    #case 1 100개이하 뽑힌 경우 -> 다시뽑기\n",
    "    if len(df.loc[df[df['page'] != df['page1']].index]['page']) == 1:\n",
    "        print('{0} : #case 1 100개이하 뽑힌 경우 -> 다시뽑기'.format(DATE))\n",
    "        ####\n",
    "        #다시뽑기 DEF필요\n",
    "        ####\n",
    "    \n",
    "#if 전체 페이지수에 비해 미달인 경우\n",
    "want = max(df.loc[df[df['page'] != df['page1']].index]['page'])\n",
    "if (int(no_item/100)+1) >  want:\n",
    "    print('전체 페이지수에 비해 미달인 경우')\n",
    "    ###\n",
    "    #want + 1 ~ (int(no_item/100)+1)까지 크롤링\n",
    "    ###\n",
    "\n",
    "    \n",
    "#case 2 로그가 같게 찍힘\n",
    "####################################################################################################\n",
    "cnt = 0\n",
    "for tmp in df.loc[df[df['page'] != df['page1']].index]['S_code'] :\n",
    "    test_first = tmp\n",
    "    if test_first == test_first_old :\n",
    "        print(test_first, test_first_old)\n",
    "        print('{0}이 잘못됨.'.format(cnt))\n",
    "        ####\n",
    "        #cnt번째만 다시 뽑기 DEF 필요\n",
    "        ####\n",
    "    test_first_old = test_first\n",
    "    cnt += 1\n",
    "\n",
    "####################################################################################################\n",
    "#자료가 더 뽑힌경우.\n",
    "#case 0 깨끗하게 잘 뽑힌 경우\n",
    "if df.index[-1]+1 == no_item :\n",
    "    print('{0} : case 0 깨끗하게 잘 뽑힌 경우'.format(DATE))\n",
    "    \n",
    "    \n",
    "# #case 1 50번째까지 있고 아주 잘 나온 경우.\n",
    "# if df[df['page'] != df['page1']].index[-1] == no_item :\n",
    "#     print('#자료가 더 뽑힌경우.')\n",
    "#     print('{0} : case 1 50번째까지 있고 아주 잘 나온 경우.'.format(DATE))\n",
    "#     #df = df[0:df[df['page'] != df['page1']].index[-1]]"
   ]
  },
  {
   "cell_type": "code",
   "execution_count": 18,
   "metadata": {},
   "outputs": [
    {
     "ename": "TypeError",
     "evalue": "'int' object is not subscriptable",
     "output_type": "error",
     "traceback": [
      "\u001b[1;31m---------------------------------------------------------------------------\u001b[0m",
      "\u001b[1;31mTypeError\u001b[0m                                 Traceback (most recent call last)",
      "\u001b[1;32m<ipython-input-18-6ee47e0cc9cd>\u001b[0m in \u001b[0;36m<module>\u001b[1;34m()\u001b[0m\n\u001b[1;32m----> 1\u001b[1;33m \u001b[0mno_item\u001b[0m\u001b[1;33m[\u001b[0m\u001b[1;36m1\u001b[0m\u001b[1;33m]\u001b[0m\u001b[1;33m\u001b[0m\u001b[0m\n\u001b[0m",
      "\u001b[1;31mTypeError\u001b[0m: 'int' object is not subscriptable"
     ]
    }
   ],
   "source": [
    "no_item"
   ]
  },
  {
   "cell_type": "code",
   "execution_count": null,
   "metadata": {},
   "outputs": [],
   "source": []
  }
 ],
 "metadata": {
  "kernelspec": {
   "display_name": "Python 3",
   "language": "python",
   "name": "python3"
  },
  "language_info": {
   "codemirror_mode": {
    "name": "ipython",
    "version": 3
   },
   "file_extension": ".py",
   "mimetype": "text/x-python",
   "name": "python",
   "nbconvert_exporter": "python",
   "pygments_lexer": "ipython3",
   "version": "3.6.5"
  }
 },
 "nbformat": 4,
 "nbformat_minor": 2
}
