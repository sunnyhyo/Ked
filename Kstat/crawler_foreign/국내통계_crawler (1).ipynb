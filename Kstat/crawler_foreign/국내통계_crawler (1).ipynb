{
 "cells": [
  {
   "cell_type": "code",
   "execution_count": 44,
   "metadata": {},
   "outputs": [],
   "source": [
    "#module importing\n",
    "from selenium import webdriver\n",
    "import requests\n",
    "from bs4 import BeautifulSoup\n",
    "from collections import OrderedDict\n",
    "from itertools import count\n",
    "import pandas as pd\n",
    "import re, time, os, csv\n",
    "\n",
    "# 2. driver경로설정 및 url주소 설정\n",
    "driverpath = 'C:\\\\Users\\\\JeongHyun\\\\Desktop\\\\chromedriver.exe'\n",
    "dr = webdriver.Chrome(driverpath)"
   ]
  },
  {
   "cell_type": "code",
   "execution_count": 45,
   "metadata": {},
   "outputs": [],
   "source": [
    "#로그인\n",
    "dr.get('https://www.kita.net/login/login.do?geturl=http://stat.kita.net/stat/pmsd/japan/JapanWholeList.screen')\n",
    "dr.find_element_by_id('p_member_id').send_keys('kedkorea12')\n",
    "dr.find_element_by_id('p_passwd').send_keys('ked2363!')\n",
    "dr.find_element_by_xpath('''//*[@id=\"myform\"]/fieldset/button''').click()"
   ]
  },
  {
   "cell_type": "code",
   "execution_count": 46,
   "metadata": {},
   "outputs": [],
   "source": [
    "#국내 URL\n",
    "dr.get('http://stat.kita.net/stat/kts/pum/ItemImpExpList.screen')\n",
    "#100개씩 보기\n",
    "dr.find_element_by_xpath('''//*[@id=\"listCount\"]/option[3]''').click()\n",
    "time.sleep(1)\n",
    "#조회\n",
    "dr.find_element_by_xpath('''//*[@id=\"contents\"]/div[3]/form/fieldset/div[3]/a''').click()"
   ]
  },
  {
   "cell_type": "code",
   "execution_count": 47,
   "metadata": {},
   "outputs": [
    {
     "ename": "SyntaxError",
     "evalue": "invalid syntax (<ipython-input-47-2065df689d8e>, line 3)",
     "output_type": "error",
     "traceback": [
      "\u001b[1;36m  File \u001b[1;32m\"<ipython-input-47-2065df689d8e>\"\u001b[1;36m, line \u001b[1;32m3\u001b[0m\n\u001b[1;33m    //*[@id=\"mySheet1\"]/tbody/tr[3]/td/div/div[1]/table/tbody/tr[3]/td[3]\u001b[0m\n\u001b[1;37m     ^\u001b[0m\n\u001b[1;31mSyntaxError\u001b[0m\u001b[1;31m:\u001b[0m invalid syntax\n"
     ]
    }
   ],
   "source": [
    "#다음\n",
    "dr.find_element_by_xpath('''//*[@id=\"pageArea\"]/a[2]''').click()\n",
    "//*[@id=\"mySheet1\"]/tbody/tr[3]/td/div/div[1]/table/tbody/tr[3]/td[3]\n",
    "//*[@id=\"mySheet1\"]/tbody/tr[3]/td/div/div[1]/table/tbody/tr[4]/td[3]"
   ]
  },
  {
   "cell_type": "code",
   "execution_count": 49,
   "metadata": {},
   "outputs": [],
   "source": [
    "drt = dr.page_source\n",
    "soup = BeautifulSoup(drt,'html.parser')\n",
    "\n",
    "#코드태그\n",
    "\n",
    "#<td align=\"Left\" style=\"color: blue;\" class=\" GMClassReadOnly GMWrap0 GMAlignLeft GMText GMCell IBSheetFont0 HideCol0C2\" colspan=\"2\">854232</td>\n",
    "codes=soup.findAll('td', {'align' : 'Left' ,'style':'color:blue;'})\n",
    "#품목명\n",
    "#홀수번째일 경우-<td align=\"Left\" style=\"\" class=\" GMClassReadOnly GMEllipsis GMAlignLeft GMText GMCell IBSheetFont0 HideCol0C3\" colspan=\"2\">메모리</td>\n",
    "#짝수번째일 경우-<td align=\"Left\" style=\"background-color:rgb(251,251,251);\" class=\" GMClassReadOnly GMEllipsis GMAlignLeft GMText GMCell IBSheetFont0 HideCol0C3\" colspan=\"2\">기타</td>\n",
    "#홀수 \n",
    "odd_products=soup.findAll('td', {'align' : 'Left' ,'style':''})\n",
    "#짝수 \n",
    "even_products=soup.findAll('td', {'align' : 'Left' ,'style':'background-color:rgb(251,251,251);'})\n",
    "\n",
    "#수출금액\n",
    "#총합-<td align=\"Right\" style=\"background-color:rgb(255,234,229);\" class=\" GMClassReadOnly GMWrap0 GMAlignRight GMInt GMCell IBSheetFont0 HideCol0C10\" colspan=\"2\">604,859,657</td>\n",
    "#홀수번째일 경우<td align=\"Right\" style=\"\" class=\" GMClassReadOnly GMWrap0 GMAlignRight GMInt GMCell IBSheetFont0 HideCol0C10\" colspan=\"2\">83,048,246</td>\n",
    "#짝수번째일 경우<td align=\"Right\" style=\"background-color:rgb(251,251,251);\" class=\" GMClassReadOnly GMWrap0 GMAlignRight GMInt GMCell IBSheetFont0 HideCol0C10\" colspan=\"2\">34,063,347</td>\n",
    "#sum_exports=soup.findAll('td' {'align':'Right', 'style':'background-color:rgb(255,234,229);','class':'GMClassReadOnly GMWrap0 GMAlignRight GMInt GMCell IBSheetFont0 HideCol0C10' })\n",
    "odd_exports=soup.findAll('td',{'align':'Right', 'style':'','class':'GMClassReadOnly GMWrap0 GMAlignRight GMInt GMCell IBSheetFont0 HideCol0C10'})\n",
    "even_exports=soup.findAll('td',{'align':'Right', 'style':'background-color:rgb(251,251,251);','class':'GMClassReadOnly GMWrap0 GMAlignRight GMInt GMCell IBSheetFont0 HideCol0C10'})\n",
    "\n",
    "#수입금액\n",
    "#총합<td align=\"Right\" style=\"background-color:rgb(255,234,229);\" class=\" GMClassReadOnly GMWrap0 GMAlignRight GMFloat GMCell IBSheetFont0 HideCol0C7\" colspan=\"2\">5.4</td>\n",
    "#홀수번째일 경우 <td align=\"Right\" style=\"\" class=\" GMClassReadOnly GMWrap0 GMAlignRight GMInt GMCell IBSheetFont0 HideCol0C12\" colspan=\"2\">13,160,548</td>\n",
    "#짝수째일 경우 <td align=\"Right\" style=\"background-color:rgb(251,251,251);\" class=\" GMClassReadOnly GMWrap0 GMAlignRight GMInt GMCell IBSheetFont0 HideCol0C7\" colspan=\"2\">5,086,038</td>\n",
    "\n",
    "#sum_imports=soup.findAll('td' {'align':'Right', 'style':'background-color:rgb(255,234,229);','class':'GMClassReadOnly GMWrap0 GMAlignRight GMInt GMCell IBSheetFont0 HideCol0C12'})\n",
    "odd_imports=soup.findAll('td',{'align':'Right', 'style':'','class':'GMClassReadOnly GMWrap0 GMAlignRight GMInt GMCell IBSheetFont0 HideCol0C12'})\n",
    "even_imports=soup.findAll('td',{'align':'Right', 'style':'background-color:rgb(251,251,251);','class':'GMClassReadOnly GMWrap0 GMAlignRight GMInt GMCell IBSheetFont0 HideCol0C12'})\n"
   ]
  },
  {
   "cell_type": "code",
   "execution_count": 50,
   "metadata": {},
   "outputs": [],
   "source": [
    "for i in range(len(codes)):\n",
    "    code=codes[i].getText()\n",
    "    if i%2==0:\n",
    "        \n",
    "        even_export=even_exports[i].getText()\n",
    "        even_import=even_imports[i].getText()\n",
    "        #print(even_export)\n",
    "    else:\n",
    "        odd_export=odd_exports[i].getText()\n",
    "        odd_import=odd_imports[i].getText()\n",
    "        \n",
    "        #print(odd_export)\n",
    "    "
   ]
  }
 ],
 "metadata": {
  "kernelspec": {
   "display_name": "Python 3",
   "language": "python",
   "name": "python3"
  },
  "language_info": {
   "codemirror_mode": {
    "name": "ipython",
    "version": 3
   },
   "file_extension": ".py",
   "mimetype": "text/x-python",
   "name": "python",
   "nbconvert_exporter": "python",
   "pygments_lexer": "ipython3",
   "version": "3.6.5"
  }
 },
 "nbformat": 4,
 "nbformat_minor": 2
}
