{
 "cells": [
  {
   "cell_type": "code",
   "execution_count": 12,
   "metadata": {},
   "outputs": [],
   "source": [
    "# -*- coding: utf-8 -*-\n",
    "\"\"\"\n",
    "Created on Tue Mar  5 15:32:28 2019\n",
    "\n",
    "@author: hyunseok\n",
    "\"\"\"\n",
    "\n",
    "#module importing\n",
    "from selenium import webdriver\n",
    "from bs4 import BeautifulSoup\n",
    "import pandas as pd\n",
    "import time\n",
    "\n",
    "# 2. driver경로설정 및 url주소 설정\n",
    "driverpath = 'C:/Users/HS/Desktop/driver/chromedriver.exe'\n",
    "dr = webdriver.Chrome(driverpath)\n",
    "\n",
    "####\n",
    "\n",
    "#로그인\n",
    "dr.get('https://www.kita.net/login/login.do?geturl=http://stat.kita.net/stat/pmsd/china/ChinaWholeList.screen')\n",
    "dr.find_element_by_id('p_member_id').send_keys('kedkorea12')\n",
    "dr.find_element_by_id('p_passwd').send_keys('ked2363!')\n",
    "dr.find_element_by_xpath('''//*[@id=\"myform\"]/fieldset/button''').click()\n",
    "\n",
    "####\n",
    "\n",
    "df_tot = pd.DataFrame(columns = ['year','month','country','LC','MC','SC','S_code', 'export','export_rate', 'import','import_rate','CA'])\n",
    "\n",
    "#EU URL\n",
    "naraURL = ['http://stat.kita.net/stat/pmsd/eu/EuItemImpExpList.screen']\n",
    "nara = ['EU']\n",
    "for site, 나라 in zip(naraURL, nara) :\n",
    "    #사이트 진입\n",
    "    dr.get(site)\n",
    "    #품목별 클릭\n",
    "    dr.find_element_by_xpath('''//*[@id=\"contents\"]/div[1]/div[1]/ul/li[2]/a''').click()\n",
    "    time.sleep(2)\n",
    "    #누계 -> 당월\n",
    "    dr.find_element_by_xpath('''//*[@id=\"contents\"]/div[2]/form/fieldset/div[2]/div[3]/select/option[1]''').click()\n",
    "\n",
    "    #품목 대분류 선택\n",
    "    for item_1 in range(9,10):\n",
    "        dr.find_element_by_xpath('''//*[@id=\"contents\"]/div[2]/form/fieldset/div[1]/div[1]/select[1]/option[{0}]'''.format(item_1)).click()\n",
    "        대분류 = dr.find_element_by_xpath('''//*[@id=\"contents\"]/div[2]/form/fieldset/div[1]/div[1]/select[1]/option[{0}]'''.format(item_1)).text\n",
    "\n",
    "        #품목 중분류 선택\n",
    "        tmp=2\n",
    "        while 1:\n",
    "            try:\n",
    "                dr.find_element_by_xpath('''//*[@id=\"contents\"]/div[2]/form/fieldset/div[1]/div[1]/select[2]/option[{0}]'''.format(tmp)).click()\n",
    "                중분류 = dr.find_element_by_xpath('''//*[@id=\"contents\"]/div[2]/form/fieldset/div[1]/div[1]/select[2]/option[{0}]'''.format(tmp)).text\n",
    "                tmp +=1\n",
    "            except:\n",
    "                break;\n",
    "                \n",
    "            #년월 Trick\n",
    "            dr.find_element_by_xpath('''//*[@id=\"contents\"]/div[2]/form/fieldset/div[2]/div[1]/select/option[{0}]'''.format(4)).click()\n",
    "            dr.find_element_by_xpath('''//*[@id=\"contents\"]/div[2]/form/fieldset/div[2]/div[2]/select/option[{0}]'''.format(5)).click()   \n",
    "            dr.find_element_by_xpath('''//*[@id=\"contents\"]/div[2]/form/fieldset/div[3]/a''').click()\n",
    "            time.sleep(2)\n",
    "\n",
    "            #년 월\n",
    "            for year_ in range(1, 11):\n",
    "                dr.find_element_by_xpath('''//*[@id=\"contents\"]/div[2]/form/fieldset/div[2]/div[1]/select/option[{0}]'''.format(year_)).click()\n",
    "                년 = int(dr.find_element_by_xpath('''//*[@id=\"contents\"]/div[2]/form/fieldset/div[2]/div[1]/select/option[{0}]'''.format(year_)).text)\n",
    "\n",
    "                for month_ in range(1,13):\n",
    "                    dr.find_element_by_xpath('''//*[@id=\"contents\"]/div[2]/form/fieldset/div[2]/div[2]/select/option[{0}]'''.format(month_)).click()\n",
    "                    월 = int(dr.find_element_by_xpath('''//*[@id=\"contents\"]/div[2]/form/fieldset/div[2]/div[2]/select/option[{0}]'''.format(month_)).text)\n",
    "                    \n",
    "                    \n",
    "                    #조회\n",
    "                    dr.find_element_by_xpath('''//*[@id=\"contents\"]/div[2]/form/fieldset/div[3]/a''').click()                    \n",
    "                    time.sleep(0.5)\n",
    "                    drt = dr.page_source\n",
    "                    soup = BeautifulSoup(drt,'html.parser')\n",
    "\n",
    "                    #데이터 적재\n",
    "                    코드_소 = []\n",
    "                    소분류 = []\n",
    "                    수출액 = []\n",
    "                    수출증감률 = []\n",
    "                    수입액 = []\n",
    "                    수입증감률 = []\n",
    "                    수지 = []\n",
    "\n",
    "                    i=1\n",
    "                    for cycle in range(int((len(soup.findAll('td', {'align' : 'Left'}))-1)/2)) :\n",
    "                        코드_소.append(soup.findAll('td', {'align' : 'Center'})[-i+1].text)\n",
    "                        소분류.append(soup.findAll('td', {'align' : 'Left'})[i*2].text)\n",
    "                        수출액.append(soup.findAll('td', {'align' : 'Right'})[i*10+5].text)\n",
    "                        수출증감률.append(soup.findAll('td', {'align' : 'Right'})[i*10+6].text)\n",
    "                        수입액.append(soup.findAll('td', {'align' : 'Right'})[i*10+7].text)\n",
    "\n",
    "                        수입증감률.append(soup.findAll('td', {'align' : 'Right'})[i*10+8].text)\n",
    "                        수지.append(soup.findAll('td', {'align' : 'Right'})[i*10+9].text)\n",
    "                        i+=1\n",
    "\n",
    "                    df = pd.DataFrame({'year' :년, 'month' :월, 'country':나라, 'LC':대분류, 'MC':중분류, 'SC':소분류, 'S_code':코드_소, \n",
    "                                       'export':수출액, 'export_rate':수출증감률, 'import':수입액, 'import_rate':수입증감률, 'CA':수지})\n",
    "                    df_tot = pd.concat([df_tot, df])\n",
    "\n",
    "\n",
    "df_tot.to_csv('./df_tot_EU_전기기계부품.csv',index=False)"
   ]
  },
  {
   "cell_type": "code",
   "execution_count": 8,
   "metadata": {},
   "outputs": [
    {
     "data": {
      "text/plain": [
       "['순번']"
      ]
     },
     "execution_count": 8,
     "metadata": {},
     "output_type": "execute_result"
    }
   ],
   "source": [
    "코드_소"
   ]
  },
  {
   "cell_type": "code",
   "execution_count": 4,
   "metadata": {},
   "outputs": [
    {
     "data": {
      "text/plain": [
       "'수송기계부품'"
      ]
     },
     "execution_count": 4,
     "metadata": {},
     "output_type": "execute_result"
    }
   ],
   "source": [
    "대분류"
   ]
  },
  {
   "cell_type": "code",
   "execution_count": 7,
   "metadata": {},
   "outputs": [
    {
     "name": "stdout",
     "output_type": "stream",
     "text": [
      "(36397, 12)\n"
     ]
    }
   ],
   "source": [
    "print(df_tot.shape)"
   ]
  },
  {
   "cell_type": "code",
   "execution_count": 29,
   "metadata": {
    "scrolled": true
   },
   "outputs": [
    {
     "data": {
      "text/plain": [
       "MC\n",
       "금속탱크, 저장조 및 유사용기    408\n",
       "금속파스너 및 스프링         408\n",
       "기타 금속제 부품           205\n",
       "분말야금, 금속단조, 압형제품    204\n",
       "원자로 및 증기발생기부품       408\n",
       "톱 및 호환성공구           204\n",
       "dtype: int64"
      ]
     },
     "execution_count": 29,
     "metadata": {},
     "output_type": "execute_result"
    }
   ],
   "source": [
    "df_tot.loc[df_tot['LC'] == '조립금속제품'].groupby('MC').size()"
   ]
  },
  {
   "cell_type": "code",
   "execution_count": 24,
   "metadata": {},
   "outputs": [
    {
     "data": {
      "text/html": [
       "<div>\n",
       "<style scoped>\n",
       "    .dataframe tbody tr th:only-of-type {\n",
       "        vertical-align: middle;\n",
       "    }\n",
       "\n",
       "    .dataframe tbody tr th {\n",
       "        vertical-align: top;\n",
       "    }\n",
       "\n",
       "    .dataframe thead th {\n",
       "        text-align: right;\n",
       "    }\n",
       "</style>\n",
       "<table border=\"1\" class=\"dataframe\">\n",
       "  <thead>\n",
       "    <tr style=\"text-align: right;\">\n",
       "      <th></th>\n",
       "      <th></th>\n",
       "      <th>year</th>\n",
       "      <th>month</th>\n",
       "      <th>MC</th>\n",
       "      <th>SC</th>\n",
       "      <th>S_code</th>\n",
       "      <th>export</th>\n",
       "      <th>export_rate</th>\n",
       "      <th>import</th>\n",
       "      <th>import_rate</th>\n",
       "      <th>CA</th>\n",
       "    </tr>\n",
       "    <tr>\n",
       "      <th>country</th>\n",
       "      <th>LC</th>\n",
       "      <th></th>\n",
       "      <th></th>\n",
       "      <th></th>\n",
       "      <th></th>\n",
       "      <th></th>\n",
       "      <th></th>\n",
       "      <th></th>\n",
       "      <th></th>\n",
       "      <th></th>\n",
       "      <th></th>\n",
       "    </tr>\n",
       "  </thead>\n",
       "  <tbody>\n",
       "    <tr>\n",
       "      <th>EU</th>\n",
       "      <th>전기기계부품</th>\n",
       "      <td>2520</td>\n",
       "      <td>2520</td>\n",
       "      <td>2520</td>\n",
       "      <td>2520</td>\n",
       "      <td>2520</td>\n",
       "      <td>2520</td>\n",
       "      <td>2520</td>\n",
       "      <td>2520</td>\n",
       "      <td>2520</td>\n",
       "      <td>2520</td>\n",
       "    </tr>\n",
       "  </tbody>\n",
       "</table>\n",
       "</div>"
      ],
      "text/plain": [
       "                year  month    MC    SC  S_code  export  export_rate  import  \\\n",
       "country LC                                                                     \n",
       "EU      전기기계부품  2520   2520  2520  2520    2520    2520         2520    2520   \n",
       "\n",
       "                import_rate    CA  \n",
       "country LC                         \n",
       "EU      전기기계부품         2520  2520  "
      ]
     },
     "execution_count": 24,
     "metadata": {},
     "output_type": "execute_result"
    }
   ],
   "source": [
    "df_tot.groupby(['country','LC']).count()"
   ]
  },
  {
   "cell_type": "code",
   "execution_count": 22,
   "metadata": {},
   "outputs": [],
   "source": [
    "df_tot.to_excel('./df_tot_EU_전기기계부품2.xlsx')"
   ]
  },
  {
   "cell_type": "code",
   "execution_count": null,
   "metadata": {},
   "outputs": [],
   "source": []
  }
 ],
 "metadata": {
  "kernelspec": {
   "display_name": "Python 3",
   "language": "python",
   "name": "python3"
  },
  "language_info": {
   "codemirror_mode": {
    "name": "ipython",
    "version": 3
   },
   "file_extension": ".py",
   "mimetype": "text/x-python",
   "name": "python",
   "nbconvert_exporter": "python",
   "pygments_lexer": "ipython3",
   "version": "3.6.5"
  }
 },
 "nbformat": 4,
 "nbformat_minor": 2
}
